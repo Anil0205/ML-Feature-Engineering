{
 "cells": [
  {
   "cell_type": "code",
   "execution_count": 17,
   "id": "633ad07f",
   "metadata": {},
   "outputs": [],
   "source": [
    "import numpy as np\n",
    "import pandas as pd\n",
    "import matplotlib.pyplot as plt\n",
    "import seaborn as sns"
   ]
  },
  {
   "cell_type": "code",
   "execution_count": 18,
   "id": "18f19fc0",
   "metadata": {},
   "outputs": [],
   "source": [
    "import warnings\n",
    "warnings.filterwarnings('ignore')"
   ]
  },
  {
   "cell_type": "code",
   "execution_count": 3,
   "id": "cb2ac5a3",
   "metadata": {},
   "outputs": [],
   "source": [
    "df=pd.read_csv('titanic.csv')"
   ]
  },
  {
   "cell_type": "code",
   "execution_count": 4,
   "id": "6797b9a8",
   "metadata": {},
   "outputs": [
    {
     "data": {
      "text/html": [
       "<div>\n",
       "<style scoped>\n",
       "    .dataframe tbody tr th:only-of-type {\n",
       "        vertical-align: middle;\n",
       "    }\n",
       "\n",
       "    .dataframe tbody tr th {\n",
       "        vertical-align: top;\n",
       "    }\n",
       "\n",
       "    .dataframe thead th {\n",
       "        text-align: right;\n",
       "    }\n",
       "</style>\n",
       "<table border=\"1\" class=\"dataframe\">\n",
       "  <thead>\n",
       "    <tr style=\"text-align: right;\">\n",
       "      <th></th>\n",
       "      <th>PassengerId</th>\n",
       "      <th>Survived</th>\n",
       "      <th>Pclass</th>\n",
       "      <th>Name</th>\n",
       "      <th>Sex</th>\n",
       "      <th>Age</th>\n",
       "      <th>SibSp</th>\n",
       "      <th>Parch</th>\n",
       "      <th>Ticket</th>\n",
       "      <th>Fare</th>\n",
       "      <th>Cabin</th>\n",
       "      <th>Embarked</th>\n",
       "    </tr>\n",
       "  </thead>\n",
       "  <tbody>\n",
       "    <tr>\n",
       "      <th>0</th>\n",
       "      <td>892</td>\n",
       "      <td>0</td>\n",
       "      <td>3</td>\n",
       "      <td>Kelly, Mr. James</td>\n",
       "      <td>male</td>\n",
       "      <td>34.5</td>\n",
       "      <td>0</td>\n",
       "      <td>0</td>\n",
       "      <td>330911</td>\n",
       "      <td>7.8292</td>\n",
       "      <td>NaN</td>\n",
       "      <td>Q</td>\n",
       "    </tr>\n",
       "    <tr>\n",
       "      <th>1</th>\n",
       "      <td>893</td>\n",
       "      <td>1</td>\n",
       "      <td>3</td>\n",
       "      <td>Wilkes, Mrs. James (Ellen Needs)</td>\n",
       "      <td>female</td>\n",
       "      <td>47.0</td>\n",
       "      <td>1</td>\n",
       "      <td>0</td>\n",
       "      <td>363272</td>\n",
       "      <td>7.0000</td>\n",
       "      <td>NaN</td>\n",
       "      <td>S</td>\n",
       "    </tr>\n",
       "    <tr>\n",
       "      <th>2</th>\n",
       "      <td>894</td>\n",
       "      <td>0</td>\n",
       "      <td>2</td>\n",
       "      <td>Myles, Mr. Thomas Francis</td>\n",
       "      <td>male</td>\n",
       "      <td>62.0</td>\n",
       "      <td>0</td>\n",
       "      <td>0</td>\n",
       "      <td>240276</td>\n",
       "      <td>9.6875</td>\n",
       "      <td>NaN</td>\n",
       "      <td>Q</td>\n",
       "    </tr>\n",
       "    <tr>\n",
       "      <th>3</th>\n",
       "      <td>895</td>\n",
       "      <td>0</td>\n",
       "      <td>3</td>\n",
       "      <td>Wirz, Mr. Albert</td>\n",
       "      <td>male</td>\n",
       "      <td>27.0</td>\n",
       "      <td>0</td>\n",
       "      <td>0</td>\n",
       "      <td>315154</td>\n",
       "      <td>8.6625</td>\n",
       "      <td>NaN</td>\n",
       "      <td>S</td>\n",
       "    </tr>\n",
       "    <tr>\n",
       "      <th>4</th>\n",
       "      <td>896</td>\n",
       "      <td>1</td>\n",
       "      <td>3</td>\n",
       "      <td>Hirvonen, Mrs. Alexander (Helga E Lindqvist)</td>\n",
       "      <td>female</td>\n",
       "      <td>22.0</td>\n",
       "      <td>1</td>\n",
       "      <td>1</td>\n",
       "      <td>3101298</td>\n",
       "      <td>12.2875</td>\n",
       "      <td>NaN</td>\n",
       "      <td>S</td>\n",
       "    </tr>\n",
       "  </tbody>\n",
       "</table>\n",
       "</div>"
      ],
      "text/plain": [
       "   PassengerId  Survived  Pclass  \\\n",
       "0          892         0       3   \n",
       "1          893         1       3   \n",
       "2          894         0       2   \n",
       "3          895         0       3   \n",
       "4          896         1       3   \n",
       "\n",
       "                                           Name     Sex   Age  SibSp  Parch  \\\n",
       "0                              Kelly, Mr. James    male  34.5      0      0   \n",
       "1              Wilkes, Mrs. James (Ellen Needs)  female  47.0      1      0   \n",
       "2                     Myles, Mr. Thomas Francis    male  62.0      0      0   \n",
       "3                              Wirz, Mr. Albert    male  27.0      0      0   \n",
       "4  Hirvonen, Mrs. Alexander (Helga E Lindqvist)  female  22.0      1      1   \n",
       "\n",
       "    Ticket     Fare Cabin Embarked  \n",
       "0   330911   7.8292   NaN        Q  \n",
       "1   363272   7.0000   NaN        S  \n",
       "2   240276   9.6875   NaN        Q  \n",
       "3   315154   8.6625   NaN        S  \n",
       "4  3101298  12.2875   NaN        S  "
      ]
     },
     "execution_count": 4,
     "metadata": {},
     "output_type": "execute_result"
    }
   ],
   "source": [
    "df.head()"
   ]
  },
  {
   "cell_type": "code",
   "execution_count": 5,
   "id": "59645b63",
   "metadata": {},
   "outputs": [
    {
     "data": {
      "text/plain": [
       "PassengerId      0\n",
       "Survived         0\n",
       "Pclass           0\n",
       "Name             0\n",
       "Sex              0\n",
       "Age             86\n",
       "SibSp            0\n",
       "Parch            0\n",
       "Ticket           0\n",
       "Fare             1\n",
       "Cabin          327\n",
       "Embarked         0\n",
       "dtype: int64"
      ]
     },
     "execution_count": 5,
     "metadata": {},
     "output_type": "execute_result"
    }
   ],
   "source": [
    "df.isnull().sum()"
   ]
  },
  {
   "cell_type": "code",
   "execution_count": 6,
   "id": "c2707993",
   "metadata": {},
   "outputs": [
    {
     "data": {
      "text/html": [
       "<div>\n",
       "<style scoped>\n",
       "    .dataframe tbody tr th:only-of-type {\n",
       "        vertical-align: middle;\n",
       "    }\n",
       "\n",
       "    .dataframe tbody tr th {\n",
       "        vertical-align: top;\n",
       "    }\n",
       "\n",
       "    .dataframe thead th {\n",
       "        text-align: right;\n",
       "    }\n",
       "</style>\n",
       "<table border=\"1\" class=\"dataframe\">\n",
       "  <thead>\n",
       "    <tr style=\"text-align: right;\">\n",
       "      <th></th>\n",
       "      <th>Age</th>\n",
       "      <th>Fare</th>\n",
       "      <th>Survived</th>\n",
       "    </tr>\n",
       "  </thead>\n",
       "  <tbody>\n",
       "    <tr>\n",
       "      <th>0</th>\n",
       "      <td>34.5</td>\n",
       "      <td>7.8292</td>\n",
       "      <td>0</td>\n",
       "    </tr>\n",
       "    <tr>\n",
       "      <th>1</th>\n",
       "      <td>47.0</td>\n",
       "      <td>7.0000</td>\n",
       "      <td>1</td>\n",
       "    </tr>\n",
       "    <tr>\n",
       "      <th>2</th>\n",
       "      <td>62.0</td>\n",
       "      <td>9.6875</td>\n",
       "      <td>0</td>\n",
       "    </tr>\n",
       "    <tr>\n",
       "      <th>3</th>\n",
       "      <td>27.0</td>\n",
       "      <td>8.6625</td>\n",
       "      <td>0</td>\n",
       "    </tr>\n",
       "    <tr>\n",
       "      <th>4</th>\n",
       "      <td>22.0</td>\n",
       "      <td>12.2875</td>\n",
       "      <td>1</td>\n",
       "    </tr>\n",
       "  </tbody>\n",
       "</table>\n",
       "</div>"
      ],
      "text/plain": [
       "    Age     Fare  Survived\n",
       "0  34.5   7.8292         0\n",
       "1  47.0   7.0000         1\n",
       "2  62.0   9.6875         0\n",
       "3  27.0   8.6625         0\n",
       "4  22.0  12.2875         1"
      ]
     },
     "execution_count": 6,
     "metadata": {},
     "output_type": "execute_result"
    }
   ],
   "source": [
    "data=df[['Age','Fare','Survived']]\n",
    "data.head()"
   ]
  },
  {
   "cell_type": "markdown",
   "id": "4cd9a168",
   "metadata": {},
   "source": [
    "# Mean Techinique()"
   ]
  },
  {
   "cell_type": "code",
   "execution_count": 8,
   "id": "18dffb9e",
   "metadata": {},
   "outputs": [],
   "source": [
    "mean=df['Age'].mean()"
   ]
  },
  {
   "cell_type": "code",
   "execution_count": 9,
   "id": "729abdb0",
   "metadata": {},
   "outputs": [
    {
     "data": {
      "text/plain": [
       "30.272590361445783"
      ]
     },
     "execution_count": 9,
     "metadata": {},
     "output_type": "execute_result"
    }
   ],
   "source": [
    "mean"
   ]
  },
  {
   "cell_type": "code",
   "execution_count": 10,
   "id": "6da86b9c",
   "metadata": {},
   "outputs": [],
   "source": [
    "def mean_1(data,var,mean):\n",
    "    data[var+'_mean']=data[var].fillna(mean)"
   ]
  },
  {
   "cell_type": "code",
   "execution_count": 11,
   "id": "0ef0df2a",
   "metadata": {},
   "outputs": [],
   "source": [
    "mean_1(data,'Age',mean)"
   ]
  },
  {
   "cell_type": "code",
   "execution_count": 12,
   "id": "a7f367f7",
   "metadata": {},
   "outputs": [
    {
     "data": {
      "text/plain": [
       "Age         86\n",
       "Fare         1\n",
       "Survived     0\n",
       "Age_mean     0\n",
       "dtype: int64"
      ]
     },
     "execution_count": 12,
     "metadata": {},
     "output_type": "execute_result"
    }
   ],
   "source": [
    "data.isnull().sum()"
   ]
  },
  {
   "cell_type": "code",
   "execution_count": 13,
   "id": "1dcee46d",
   "metadata": {},
   "outputs": [
    {
     "data": {
      "text/html": [
       "<div>\n",
       "<style scoped>\n",
       "    .dataframe tbody tr th:only-of-type {\n",
       "        vertical-align: middle;\n",
       "    }\n",
       "\n",
       "    .dataframe tbody tr th {\n",
       "        vertical-align: top;\n",
       "    }\n",
       "\n",
       "    .dataframe thead th {\n",
       "        text-align: right;\n",
       "    }\n",
       "</style>\n",
       "<table border=\"1\" class=\"dataframe\">\n",
       "  <thead>\n",
       "    <tr style=\"text-align: right;\">\n",
       "      <th></th>\n",
       "      <th>Age</th>\n",
       "      <th>Age_mean</th>\n",
       "    </tr>\n",
       "  </thead>\n",
       "  <tbody>\n",
       "    <tr>\n",
       "      <th>0</th>\n",
       "      <td>34.5</td>\n",
       "      <td>34.5</td>\n",
       "    </tr>\n",
       "    <tr>\n",
       "      <th>1</th>\n",
       "      <td>47.0</td>\n",
       "      <td>47.0</td>\n",
       "    </tr>\n",
       "    <tr>\n",
       "      <th>2</th>\n",
       "      <td>62.0</td>\n",
       "      <td>62.0</td>\n",
       "    </tr>\n",
       "    <tr>\n",
       "      <th>3</th>\n",
       "      <td>27.0</td>\n",
       "      <td>27.0</td>\n",
       "    </tr>\n",
       "    <tr>\n",
       "      <th>4</th>\n",
       "      <td>22.0</td>\n",
       "      <td>22.0</td>\n",
       "    </tr>\n",
       "  </tbody>\n",
       "</table>\n",
       "</div>"
      ],
      "text/plain": [
       "    Age  Age_mean\n",
       "0  34.5      34.5\n",
       "1  47.0      47.0\n",
       "2  62.0      62.0\n",
       "3  27.0      27.0\n",
       "4  22.0      22.0"
      ]
     },
     "execution_count": 13,
     "metadata": {},
     "output_type": "execute_result"
    }
   ],
   "source": [
    "data[['Age','Age_mean']].head()"
   ]
  },
  {
   "cell_type": "code",
   "execution_count": 14,
   "id": "8b6edbe3",
   "metadata": {},
   "outputs": [
    {
     "name": "stdout",
     "output_type": "stream",
     "text": [
      "14.18120923562442\n"
     ]
    }
   ],
   "source": [
    "print(data['Age'].std())"
   ]
  },
  {
   "cell_type": "code",
   "execution_count": 15,
   "id": "b0ecf768",
   "metadata": {},
   "outputs": [
    {
     "name": "stdout",
     "output_type": "stream",
     "text": [
      "12.63453416832505\n"
     ]
    }
   ],
   "source": [
    "print(data['Age_mean'].std())"
   ]
  },
  {
   "cell_type": "markdown",
   "id": "63d6a40b",
   "metadata": {},
   "source": [
    "# Graphical Techinque"
   ]
  },
  {
   "cell_type": "code",
   "execution_count": 24,
   "id": "f4bdc03c",
   "metadata": {},
   "outputs": [
    {
     "data": {
      "image/png": "[encoded data removed]",
      "text/plain": [
       "<Figure size 432x288 with 1 Axes>"
      ]
     },
     "metadata": {
      "needs_background": "light"
     },
     "output_type": "display_data"
    }
   ],
   "source": [
    "fig = plt.figure()\n",
    "ax = fig.add_subplot(1,1,1)\n",
    "data['Age'].hist(bins=50,color='r',density=True,ax=ax,label='Age')\n",
    "data['Age_mean'].hist(bins=50,color='g',density=True,ax=ax,label='Age_mean')\n",
    "plt.legend(loc=0)\n",
    "plt.show()"
   ]
  },
  {
   "cell_type": "markdown",
   "id": "cad5fd89",
   "metadata": {},
   "source": [
    "# Distribution"
   ]
  },
  {
   "cell_type": "code",
   "execution_count": 28,
   "id": "8b58a4da",
   "metadata": {
    "scrolled": true
   },
   "outputs": [
    {
     "data": {
      "image/png": "[encoded data removed]",
      "text/plain": [
       "<Figure size 432x288 with 1 Axes>"
      ]
     },
     "metadata": {
      "needs_background": "light"
     },
     "output_type": "display_data"
    }
   ],
   "source": [
    "fig = plt.figure()\n",
    "ax=fig.add_subplot(1,1,1)\n",
    "data['Age'].plot(kind='kde',color='r',x=ax,label='Age')\n",
    "data['Age_mean'].plot(kind='kde',color='g',ax=ax,label='Age_mean')\n",
    "plt.legend(loc=0)\n",
    "plt.show()"
   ]
  },
  {
   "cell_type": "markdown",
   "id": "1371a0aa",
   "metadata": {},
   "source": [
    "# Median Technique"
   ]
  },
  {
   "cell_type": "code",
   "execution_count": 29,
   "id": "35e79ec7",
   "metadata": {},
   "outputs": [],
   "source": [
    "median = data['Age'].median()"
   ]
  },
  {
   "cell_type": "code",
   "execution_count": 30,
   "id": "a8e9ca47",
   "metadata": {},
   "outputs": [
    {
     "data": {
      "text/plain": [
       "27.0"
      ]
     },
     "execution_count": 30,
     "metadata": {},
     "output_type": "execute_result"
    }
   ],
   "source": [
    "median"
   ]
  },
  {
   "cell_type": "code",
   "execution_count": 31,
   "id": "6bd6b60c",
   "metadata": {},
   "outputs": [],
   "source": [
    "def med(data,var,median):\n",
    "    data[var+'median']=data[var].fillna(median)"
   ]
  },
  {
   "cell_type": "code",
   "execution_count": 33,
   "id": "b85ef340",
   "metadata": {},
   "outputs": [],
   "source": [
    "med(data,'Age',median)"
   ]
  },
  {
   "cell_type": "code",
   "execution_count": 35,
   "id": "58fcae92",
   "metadata": {},
   "outputs": [
    {
     "data": {
      "text/html": [
       "<div>\n",
       "<style scoped>\n",
       "    .dataframe tbody tr th:only-of-type {\n",
       "        vertical-align: middle;\n",
       "    }\n",
       "\n",
       "    .dataframe tbody tr th {\n",
       "        vertical-align: top;\n",
       "    }\n",
       "\n",
       "    .dataframe thead th {\n",
       "        text-align: right;\n",
       "    }\n",
       "</style>\n",
       "<table border=\"1\" class=\"dataframe\">\n",
       "  <thead>\n",
       "    <tr style=\"text-align: right;\">\n",
       "      <th></th>\n",
       "      <th>Age</th>\n",
       "      <th>Agemedian</th>\n",
       "    </tr>\n",
       "  </thead>\n",
       "  <tbody>\n",
       "    <tr>\n",
       "      <th>0</th>\n",
       "      <td>34.5</td>\n",
       "      <td>34.5</td>\n",
       "    </tr>\n",
       "    <tr>\n",
       "      <th>1</th>\n",
       "      <td>47.0</td>\n",
       "      <td>47.0</td>\n",
       "    </tr>\n",
       "    <tr>\n",
       "      <th>2</th>\n",
       "      <td>62.0</td>\n",
       "      <td>62.0</td>\n",
       "    </tr>\n",
       "    <tr>\n",
       "      <th>3</th>\n",
       "      <td>27.0</td>\n",
       "      <td>27.0</td>\n",
       "    </tr>\n",
       "    <tr>\n",
       "      <th>4</th>\n",
       "      <td>22.0</td>\n",
       "      <td>22.0</td>\n",
       "    </tr>\n",
       "    <tr>\n",
       "      <th>...</th>\n",
       "      <td>...</td>\n",
       "      <td>...</td>\n",
       "    </tr>\n",
       "    <tr>\n",
       "      <th>413</th>\n",
       "      <td>NaN</td>\n",
       "      <td>27.0</td>\n",
       "    </tr>\n",
       "    <tr>\n",
       "      <th>414</th>\n",
       "      <td>39.0</td>\n",
       "      <td>39.0</td>\n",
       "    </tr>\n",
       "    <tr>\n",
       "      <th>415</th>\n",
       "      <td>38.5</td>\n",
       "      <td>38.5</td>\n",
       "    </tr>\n",
       "    <tr>\n",
       "      <th>416</th>\n",
       "      <td>NaN</td>\n",
       "      <td>27.0</td>\n",
       "    </tr>\n",
       "    <tr>\n",
       "      <th>417</th>\n",
       "      <td>NaN</td>\n",
       "      <td>27.0</td>\n",
       "    </tr>\n",
       "  </tbody>\n",
       "</table>\n",
       "<p>418 rows × 2 columns</p>\n",
       "</div>"
      ],
      "text/plain": [
       "      Age  Agemedian\n",
       "0    34.5       34.5\n",
       "1    47.0       47.0\n",
       "2    62.0       62.0\n",
       "3    27.0       27.0\n",
       "4    22.0       22.0\n",
       "..    ...        ...\n",
       "413   NaN       27.0\n",
       "414  39.0       39.0\n",
       "415  38.5       38.5\n",
       "416   NaN       27.0\n",
       "417   NaN       27.0\n",
       "\n",
       "[418 rows x 2 columns]"
      ]
     },
     "execution_count": 35,
     "metadata": {},
     "output_type": "execute_result"
    }
   ],
   "source": [
    "data[['Age','Agemedian']]"
   ]
  },
  {
   "cell_type": "code",
   "execution_count": 36,
   "id": "3c8c780f",
   "metadata": {},
   "outputs": [
    {
     "data": {
      "text/plain": [
       "14.18120923562442"
      ]
     },
     "execution_count": 36,
     "metadata": {},
     "output_type": "execute_result"
    }
   ],
   "source": [
    "data['Age'].std()"
   ]
  },
  {
   "cell_type": "code",
   "execution_count": 37,
   "id": "2d50fe72",
   "metadata": {},
   "outputs": [
    {
     "data": {
      "text/plain": [
       "12.703769846333287"
      ]
     },
     "execution_count": 37,
     "metadata": {},
     "output_type": "execute_result"
    }
   ],
   "source": [
    "data['Agemedian'].std()"
   ]
  },
  {
   "cell_type": "markdown",
   "id": "499fbb6e",
   "metadata": {},
   "source": [
    "# Graphiocal Representation"
   ]
  },
  {
   "cell_type": "code",
   "execution_count": 46,
   "id": "20372f36",
   "metadata": {},
   "outputs": [
    {
     "data": {
      "image/png": "[encoded data removed]",
      "text/plain": [
       "<Figure size 432x288 with 1 Axes>"
      ]
     },
     "metadata": {
      "needs_background": "light"
     },
     "output_type": "display_data"
    }
   ],
   "source": [
    "fig = plt.figure()\n",
    "ax = fig.add_subplot(1,1,1)\n",
    "data['Age'].hist(bins=50,color='r',density=True,ax=ax,label='Age')\n",
    "data['Agemedian'].hist(bins=50,color='g',density=True,ax=ax,label='Agemedian')\n",
    "plt.legend(loc=0)\n",
    "plt.show()"
   ]
  },
  {
   "cell_type": "markdown",
   "id": "178e5d15",
   "metadata": {},
   "source": [
    "# Distribution"
   ]
  },
  {
   "cell_type": "code",
   "execution_count": 45,
   "id": "505d6611",
   "metadata": {},
   "outputs": [
    {
     "data": {
      "image/png": "[encoded data removed]",
      "text/plain": [
       "<Figure size 432x288 with 1 Axes>"
      ]
     },
     "metadata": {
      "needs_background": "light"
     },
     "output_type": "display_data"
    }
   ],
   "source": [
    "fig = plt.figure()\n",
    "ax = fig.add_subplot(1,1,1)\n",
    "data['Age'].plot(kind='kde',color='r',ax=ax,label='Age')\n",
    "data['Agemedian'].plot(kind='kde',color='g',ax=ax,label='Agemedian')\n",
    "plt.legend(loc=0)\n",
    "plt.show()"
   ]
  },
  {
   "cell_type": "markdown",
   "id": "cc1b4b22",
   "metadata": {},
   "source": [
    "# Mode"
   ]
  },
  {
   "cell_type": "code",
   "execution_count": 48,
   "id": "e2461c6b",
   "metadata": {},
   "outputs": [],
   "source": [
    "mode = data['Age'].mode()"
   ]
  },
  {
   "cell_type": "code",
   "execution_count": 49,
   "id": "ab429b09",
   "metadata": {},
   "outputs": [
    {
     "data": {
      "text/plain": [
       "0    21.0\n",
       "1    24.0\n",
       "dtype: float64"
      ]
     },
     "execution_count": 49,
     "metadata": {},
     "output_type": "execute_result"
    }
   ],
   "source": [
    "mode"
   ]
  },
  {
   "cell_type": "code",
   "execution_count": 51,
   "id": "12d866b4",
   "metadata": {},
   "outputs": [],
   "source": [
    "def mode_1(data,var,mode):\n",
    "    data[var+'mode']=data['Age'].fillna(mode)[0]"
   ]
  },
  {
   "cell_type": "code",
   "execution_count": 52,
   "id": "4e109187",
   "metadata": {},
   "outputs": [],
   "source": [
    "mode_1(data,'Age',mode)"
   ]
  },
  {
   "cell_type": "code",
   "execution_count": 53,
   "id": "f531264e",
   "metadata": {},
   "outputs": [
    {
     "data": {
      "text/html": [
       "<div>\n",
       "<style scoped>\n",
       "    .dataframe tbody tr th:only-of-type {\n",
       "        vertical-align: middle;\n",
       "    }\n",
       "\n",
       "    .dataframe tbody tr th {\n",
       "        vertical-align: top;\n",
       "    }\n",
       "\n",
       "    .dataframe thead th {\n",
       "        text-align: right;\n",
       "    }\n",
       "</style>\n",
       "<table border=\"1\" class=\"dataframe\">\n",
       "  <thead>\n",
       "    <tr style=\"text-align: right;\">\n",
       "      <th></th>\n",
       "      <th>Age</th>\n",
       "      <th>Agemode</th>\n",
       "    </tr>\n",
       "  </thead>\n",
       "  <tbody>\n",
       "    <tr>\n",
       "      <th>0</th>\n",
       "      <td>34.5</td>\n",
       "      <td>34.5</td>\n",
       "    </tr>\n",
       "    <tr>\n",
       "      <th>1</th>\n",
       "      <td>47.0</td>\n",
       "      <td>34.5</td>\n",
       "    </tr>\n",
       "    <tr>\n",
       "      <th>2</th>\n",
       "      <td>62.0</td>\n",
       "      <td>34.5</td>\n",
       "    </tr>\n",
       "    <tr>\n",
       "      <th>3</th>\n",
       "      <td>27.0</td>\n",
       "      <td>34.5</td>\n",
       "    </tr>\n",
       "    <tr>\n",
       "      <th>4</th>\n",
       "      <td>22.0</td>\n",
       "      <td>34.5</td>\n",
       "    </tr>\n",
       "    <tr>\n",
       "      <th>...</th>\n",
       "      <td>...</td>\n",
       "      <td>...</td>\n",
       "    </tr>\n",
       "    <tr>\n",
       "      <th>413</th>\n",
       "      <td>NaN</td>\n",
       "      <td>34.5</td>\n",
       "    </tr>\n",
       "    <tr>\n",
       "      <th>414</th>\n",
       "      <td>39.0</td>\n",
       "      <td>34.5</td>\n",
       "    </tr>\n",
       "    <tr>\n",
       "      <th>415</th>\n",
       "      <td>38.5</td>\n",
       "      <td>34.5</td>\n",
       "    </tr>\n",
       "    <tr>\n",
       "      <th>416</th>\n",
       "      <td>NaN</td>\n",
       "      <td>34.5</td>\n",
       "    </tr>\n",
       "    <tr>\n",
       "      <th>417</th>\n",
       "      <td>NaN</td>\n",
       "      <td>34.5</td>\n",
       "    </tr>\n",
       "  </tbody>\n",
       "</table>\n",
       "<p>418 rows × 2 columns</p>\n",
       "</div>"
      ],
      "text/plain": [
       "      Age  Agemode\n",
       "0    34.5     34.5\n",
       "1    47.0     34.5\n",
       "2    62.0     34.5\n",
       "3    27.0     34.5\n",
       "4    22.0     34.5\n",
       "..    ...      ...\n",
       "413   NaN     34.5\n",
       "414  39.0     34.5\n",
       "415  38.5     34.5\n",
       "416   NaN     34.5\n",
       "417   NaN     34.5\n",
       "\n",
       "[418 rows x 2 columns]"
      ]
     },
     "execution_count": 53,
     "metadata": {},
     "output_type": "execute_result"
    }
   ],
   "source": [
    "data[['Age','Agemode']]"
   ]
  },
  {
   "cell_type": "code",
   "execution_count": 55,
   "id": "0165f1be",
   "metadata": {},
   "outputs": [
    {
     "data": {
      "text/plain": [
       "Age          86\n",
       "Fare          1\n",
       "Survived      0\n",
       "Age_mean      0\n",
       "Agemedian     0\n",
       "Agemode       0\n",
       "dtype: int64"
      ]
     },
     "execution_count": 55,
     "metadata": {},
     "output_type": "execute_result"
    }
   ],
   "source": [
    "data.isnull().sum()"
   ]
  },
  {
   "cell_type": "markdown",
   "id": "724fa60e",
   "metadata": {},
   "source": [
    "# Graphical Representation"
   ]
  },
  {
   "cell_type": "code",
   "execution_count": 56,
   "id": "6309794a",
   "metadata": {},
   "outputs": [
    {
     "data": {
      "image/png": "[encoded data removed]",
      "text/plain": [
       "<Figure size 432x288 with 1 Axes>"
      ]
     },
     "metadata": {
      "needs_background": "light"
     },
     "output_type": "display_data"
    }
   ],
   "source": [
    "fig = plt.figure()\n",
    "ax = fig.add_subplot(1,1,1)\n",
    "data['Age'].hist(bins=50,color='r',density=True,ax=ax,label='Age')\n",
    "data['Agemode'].hist(bins=50,color='g',density=True,ax=ax,label='Agemode')\n",
    "plt.legend(loc=0)\n",
    "plt.show()"
   ]
  },
  {
   "cell_type": "markdown",
   "id": "4e986763",
   "metadata": {},
   "source": [
    "# Distribution"
   ]
  },
  {
   "cell_type": "code",
   "execution_count": 57,
   "id": "a70d4579",
   "metadata": {},
   "outputs": [
    {
     "data": {
      "image/png": "[encoded data removed]",
      "text/plain": [
       "<Figure size 432x288 with 1 Axes>"
      ]
     },
     "metadata": {
      "needs_background": "light"
     },
     "output_type": "display_data"
    }
   ],
   "source": [
    "fig = plt.figure()\n",
    "ax = fig.add_subplot(1,1,1)\n",
    "data['Age'].plot(kind='kde',color='r',ax=ax,label='Age')\n",
    "data['Agemode'].plot(kind='kde',color='g',ax=ax,label='Agemode')\n",
    "plt.legend(loc=0)\n",
    "plt.show()"
   ]
  },
  {
   "cell_type": "markdown",
   "id": "95cd8f87",
   "metadata": {},
   "source": [
    "# With Sklearn"
   ]
  },
  {
   "cell_type": "code",
   "execution_count": 60,
   "id": "8b00051e",
   "metadata": {},
   "outputs": [],
   "source": [
    "df=pd.read_csv('titanic.csv')"
   ]
  },
  {
   "cell_type": "code",
   "execution_count": 61,
   "id": "58227697",
   "metadata": {},
   "outputs": [],
   "source": [
    "data=df[['Age']]"
   ]
  },
  {
   "cell_type": "code",
   "execution_count": 62,
   "id": "dbfe5a36",
   "metadata": {},
   "outputs": [
    {
     "data": {
      "text/html": [
       "<div>\n",
       "<style scoped>\n",
       "    .dataframe tbody tr th:only-of-type {\n",
       "        vertical-align: middle;\n",
       "    }\n",
       "\n",
       "    .dataframe tbody tr th {\n",
       "        vertical-align: top;\n",
       "    }\n",
       "\n",
       "    .dataframe thead th {\n",
       "        text-align: right;\n",
       "    }\n",
       "</style>\n",
       "<table border=\"1\" class=\"dataframe\">\n",
       "  <thead>\n",
       "    <tr style=\"text-align: right;\">\n",
       "      <th></th>\n",
       "      <th>Age</th>\n",
       "    </tr>\n",
       "  </thead>\n",
       "  <tbody>\n",
       "    <tr>\n",
       "      <th>0</th>\n",
       "      <td>34.5</td>\n",
       "    </tr>\n",
       "    <tr>\n",
       "      <th>1</th>\n",
       "      <td>47.0</td>\n",
       "    </tr>\n",
       "    <tr>\n",
       "      <th>2</th>\n",
       "      <td>62.0</td>\n",
       "    </tr>\n",
       "    <tr>\n",
       "      <th>3</th>\n",
       "      <td>27.0</td>\n",
       "    </tr>\n",
       "    <tr>\n",
       "      <th>4</th>\n",
       "      <td>22.0</td>\n",
       "    </tr>\n",
       "  </tbody>\n",
       "</table>\n",
       "</div>"
      ],
      "text/plain": [
       "    Age\n",
       "0  34.5\n",
       "1  47.0\n",
       "2  62.0\n",
       "3  27.0\n",
       "4  22.0"
      ]
     },
     "execution_count": 62,
     "metadata": {},
     "output_type": "execute_result"
    }
   ],
   "source": [
    "data.head()"
   ]
  },
  {
   "cell_type": "code",
   "execution_count": 63,
   "id": "a9e21024",
   "metadata": {},
   "outputs": [],
   "source": [
    "from sklearn.impute import SimpleImputer"
   ]
  },
  {
   "cell_type": "code",
   "execution_count": 85,
   "id": "ec47d636",
   "metadata": {},
   "outputs": [],
   "source": [
    "reg = SimpleImputer(strategy='mean')"
   ]
  },
  {
   "cell_type": "code",
   "execution_count": 86,
   "id": "6ad3fa3f",
   "metadata": {},
   "outputs": [
    {
     "data": {
      "text/plain": [
       "SimpleImputer()"
      ]
     },
     "execution_count": 86,
     "metadata": {},
     "output_type": "execute_result"
    }
   ],
   "source": [
    "reg.fit(data)"
   ]
  },
  {
   "cell_type": "code",
   "execution_count": 87,
   "id": "9eb39432",
   "metadata": {},
   "outputs": [
    {
     "data": {
      "text/plain": [
       "Age    0\n",
       "dtype: int64"
      ]
     },
     "execution_count": 87,
     "metadata": {},
     "output_type": "execute_result"
    }
   ],
   "source": [
    "data.isnull().sum()"
   ]
  },
  {
   "cell_type": "code",
   "execution_count": 88,
   "id": "124d88cf",
   "metadata": {},
   "outputs": [
    {
     "data": {
      "text/plain": [
       "array([[34.5       ],\n",
       "       [47.        ],\n",
       "       [62.        ],\n",
       "       [27.        ],\n",
       "       [22.        ],\n",
       "       [14.        ],\n",
       "       [30.        ],\n",
       "       [26.        ],\n",
       "       [18.        ],\n",
       "       [21.        ],\n",
       "       [30.27259036],\n",
       "       [46.        ],\n",
       "       [23.        ],\n",
       "       [63.        ],\n",
       "       [47.        ],\n",
       "       [24.        ],\n",
       "       [35.        ],\n",
       "       [21.        ],\n",
       "       [27.        ],\n",
       "       [45.        ],\n",
       "       [55.        ],\n",
       "       [ 9.        ],\n",
       "       [30.27259036],\n",
       "       [21.        ],\n",
       "       [48.        ],\n",
       "       [50.        ],\n",
       "       [22.        ],\n",
       "       [22.5       ],\n",
       "       [41.        ],\n",
       "       [30.27259036],\n",
       "       [50.        ],\n",
       "       [24.        ],\n",
       "       [33.        ],\n",
       "       [30.27259036],\n",
       "       [30.        ],\n",
       "       [18.5       ],\n",
       "       [30.27259036],\n",
       "       [21.        ],\n",
       "       [25.        ],\n",
       "       [30.27259036],\n",
       "       [39.        ],\n",
       "       [30.27259036],\n",
       "       [41.        ],\n",
       "       [30.        ],\n",
       "       [45.        ],\n",
       "       [25.        ],\n",
       "       [45.        ],\n",
       "       [30.27259036],\n",
       "       [60.        ],\n",
       "       [36.        ],\n",
       "       [24.        ],\n",
       "       [27.        ],\n",
       "       [20.        ],\n",
       "       [28.        ],\n",
       "       [30.27259036],\n",
       "       [10.        ],\n",
       "       [35.        ],\n",
       "       [25.        ],\n",
       "       [30.27259036],\n",
       "       [36.        ],\n",
       "       [17.        ],\n",
       "       [32.        ],\n",
       "       [18.        ],\n",
       "       [22.        ],\n",
       "       [13.        ],\n",
       "       [30.27259036],\n",
       "       [18.        ],\n",
       "       [47.        ],\n",
       "       [31.        ],\n",
       "       [60.        ],\n",
       "       [24.        ],\n",
       "       [21.        ],\n",
       "       [29.        ],\n",
       "       [28.5       ],\n",
       "       [35.        ],\n",
       "       [32.5       ],\n",
       "       [30.27259036],\n",
       "       [55.        ],\n",
       "       [30.        ],\n",
       "       [24.        ],\n",
       "       [ 6.        ],\n",
       "       [67.        ],\n",
       "       [49.        ],\n",
       "       [30.27259036],\n",
       "       [30.27259036],\n",
       "       [30.27259036],\n",
       "       [27.        ],\n",
       "       [18.        ],\n",
       "       [30.27259036],\n",
       "       [ 2.        ],\n",
       "       [22.        ],\n",
       "       [30.27259036],\n",
       "       [27.        ],\n",
       "       [30.27259036],\n",
       "       [25.        ],\n",
       "       [25.        ],\n",
       "       [76.        ],\n",
       "       [29.        ],\n",
       "       [20.        ],\n",
       "       [33.        ],\n",
       "       [43.        ],\n",
       "       [27.        ],\n",
       "       [30.27259036],\n",
       "       [26.        ],\n",
       "       [16.        ],\n",
       "       [28.        ],\n",
       "       [21.        ],\n",
       "       [30.27259036],\n",
       "       [30.27259036],\n",
       "       [18.5       ],\n",
       "       [41.        ],\n",
       "       [30.27259036],\n",
       "       [36.        ],\n",
       "       [18.5       ],\n",
       "       [63.        ],\n",
       "       [18.        ],\n",
       "       [30.27259036],\n",
       "       [ 1.        ],\n",
       "       [36.        ],\n",
       "       [29.        ],\n",
       "       [12.        ],\n",
       "       [30.27259036],\n",
       "       [35.        ],\n",
       "       [28.        ],\n",
       "       [30.27259036],\n",
       "       [17.        ],\n",
       "       [22.        ],\n",
       "       [30.27259036],\n",
       "       [42.        ],\n",
       "       [24.        ],\n",
       "       [32.        ],\n",
       "       [53.        ],\n",
       "       [30.27259036],\n",
       "       [30.27259036],\n",
       "       [43.        ],\n",
       "       [24.        ],\n",
       "       [26.5       ],\n",
       "       [26.        ],\n",
       "       [23.        ],\n",
       "       [40.        ],\n",
       "       [10.        ],\n",
       "       [33.        ],\n",
       "       [61.        ],\n",
       "       [28.        ],\n",
       "       [42.        ],\n",
       "       [31.        ],\n",
       "       [30.27259036],\n",
       "       [22.        ],\n",
       "       [30.27259036],\n",
       "       [30.        ],\n",
       "       [23.        ],\n",
       "       [30.27259036],\n",
       "       [60.5       ],\n",
       "       [36.        ],\n",
       "       [13.        ],\n",
       "       [24.        ],\n",
       "       [29.        ],\n",
       "       [23.        ],\n",
       "       [42.        ],\n",
       "       [26.        ],\n",
       "       [30.27259036],\n",
       "       [ 7.        ],\n",
       "       [26.        ],\n",
       "       [30.27259036],\n",
       "       [41.        ],\n",
       "       [26.        ],\n",
       "       [48.        ],\n",
       "       [18.        ],\n",
       "       [30.27259036],\n",
       "       [22.        ],\n",
       "       [30.27259036],\n",
       "       [27.        ],\n",
       "       [23.        ],\n",
       "       [30.27259036],\n",
       "       [40.        ],\n",
       "       [15.        ],\n",
       "       [20.        ],\n",
       "       [54.        ],\n",
       "       [36.        ],\n",
       "       [64.        ],\n",
       "       [30.        ],\n",
       "       [37.        ],\n",
       "       [18.        ],\n",
       "       [30.27259036],\n",
       "       [27.        ],\n",
       "       [40.        ],\n",
       "       [21.        ],\n",
       "       [17.        ],\n",
       "       [30.27259036],\n",
       "       [40.        ],\n",
       "       [34.        ],\n",
       "       [30.27259036],\n",
       "       [11.5       ],\n",
       "       [61.        ],\n",
       "       [ 8.        ],\n",
       "       [33.        ],\n",
       "       [ 6.        ],\n",
       "       [18.        ],\n",
       "       [23.        ],\n",
       "       [30.27259036],\n",
       "       [30.27259036],\n",
       "       [ 0.33      ],\n",
       "       [47.        ],\n",
       "       [ 8.        ],\n",
       "       [25.        ],\n",
       "       [30.27259036],\n",
       "       [35.        ],\n",
       "       [24.        ],\n",
       "       [33.        ],\n",
       "       [25.        ],\n",
       "       [32.        ],\n",
       "       [30.27259036],\n",
       "       [17.        ],\n",
       "       [60.        ],\n",
       "       [38.        ],\n",
       "       [42.        ],\n",
       "       [30.27259036],\n",
       "       [57.        ],\n",
       "       [50.        ],\n",
       "       [30.27259036],\n",
       "       [30.        ],\n",
       "       [21.        ],\n",
       "       [22.        ],\n",
       "       [21.        ],\n",
       "       [53.        ],\n",
       "       [30.27259036],\n",
       "       [23.        ],\n",
       "       [30.27259036],\n",
       "       [40.5       ],\n",
       "       [36.        ],\n",
       "       [14.        ],\n",
       "       [21.        ],\n",
       "       [21.        ],\n",
       "       [30.27259036],\n",
       "       [39.        ],\n",
       "       [20.        ],\n",
       "       [64.        ],\n",
       "       [20.        ],\n",
       "       [18.        ],\n",
       "       [48.        ],\n",
       "       [55.        ],\n",
       "       [45.        ],\n",
       "       [45.        ],\n",
       "       [30.27259036],\n",
       "       [30.27259036],\n",
       "       [41.        ],\n",
       "       [22.        ],\n",
       "       [42.        ],\n",
       "       [29.        ],\n",
       "       [30.27259036],\n",
       "       [ 0.92      ],\n",
       "       [20.        ],\n",
       "       [27.        ],\n",
       "       [24.        ],\n",
       "       [32.5       ],\n",
       "       [30.27259036],\n",
       "       [30.27259036],\n",
       "       [28.        ],\n",
       "       [19.        ],\n",
       "       [21.        ],\n",
       "       [36.5       ],\n",
       "       [21.        ],\n",
       "       [29.        ],\n",
       "       [ 1.        ],\n",
       "       [30.        ],\n",
       "       [30.27259036],\n",
       "       [30.27259036],\n",
       "       [30.27259036],\n",
       "       [30.27259036],\n",
       "       [17.        ],\n",
       "       [46.        ],\n",
       "       [30.27259036],\n",
       "       [26.        ],\n",
       "       [30.27259036],\n",
       "       [30.27259036],\n",
       "       [20.        ],\n",
       "       [28.        ],\n",
       "       [40.        ],\n",
       "       [30.        ],\n",
       "       [22.        ],\n",
       "       [23.        ],\n",
       "       [ 0.75      ],\n",
       "       [30.27259036],\n",
       "       [ 9.        ],\n",
       "       [ 2.        ],\n",
       "       [36.        ],\n",
       "       [30.27259036],\n",
       "       [24.        ],\n",
       "       [30.27259036],\n",
       "       [30.27259036],\n",
       "       [30.27259036],\n",
       "       [30.        ],\n",
       "       [30.27259036],\n",
       "       [53.        ],\n",
       "       [36.        ],\n",
       "       [26.        ],\n",
       "       [ 1.        ],\n",
       "       [30.27259036],\n",
       "       [30.        ],\n",
       "       [29.        ],\n",
       "       [32.        ],\n",
       "       [30.27259036],\n",
       "       [43.        ],\n",
       "       [24.        ],\n",
       "       [30.27259036],\n",
       "       [64.        ],\n",
       "       [30.        ],\n",
       "       [ 0.83      ],\n",
       "       [55.        ],\n",
       "       [45.        ],\n",
       "       [18.        ],\n",
       "       [22.        ],\n",
       "       [30.27259036],\n",
       "       [37.        ],\n",
       "       [55.        ],\n",
       "       [17.        ],\n",
       "       [57.        ],\n",
       "       [19.        ],\n",
       "       [27.        ],\n",
       "       [22.        ],\n",
       "       [26.        ],\n",
       "       [25.        ],\n",
       "       [26.        ],\n",
       "       [33.        ],\n",
       "       [39.        ],\n",
       "       [23.        ],\n",
       "       [12.        ],\n",
       "       [46.        ],\n",
       "       [29.        ],\n",
       "       [21.        ],\n",
       "       [48.        ],\n",
       "       [39.        ],\n",
       "       [30.27259036],\n",
       "       [19.        ],\n",
       "       [27.        ],\n",
       "       [30.        ],\n",
       "       [32.        ],\n",
       "       [39.        ],\n",
       "       [25.        ],\n",
       "       [30.27259036],\n",
       "       [18.        ],\n",
       "       [32.        ],\n",
       "       [30.27259036],\n",
       "       [58.        ],\n",
       "       [30.27259036],\n",
       "       [16.        ],\n",
       "       [26.        ],\n",
       "       [38.        ],\n",
       "       [24.        ],\n",
       "       [31.        ],\n",
       "       [45.        ],\n",
       "       [25.        ],\n",
       "       [18.        ],\n",
       "       [49.        ],\n",
       "       [ 0.17      ],\n",
       "       [50.        ],\n",
       "       [59.        ],\n",
       "       [30.27259036],\n",
       "       [30.27259036],\n",
       "       [30.        ],\n",
       "       [14.5       ],\n",
       "       [24.        ],\n",
       "       [31.        ],\n",
       "       [27.        ],\n",
       "       [25.        ],\n",
       "       [30.27259036],\n",
       "       [30.27259036],\n",
       "       [22.        ],\n",
       "       [45.        ],\n",
       "       [29.        ],\n",
       "       [21.        ],\n",
       "       [31.        ],\n",
       "       [49.        ],\n",
       "       [44.        ],\n",
       "       [54.        ],\n",
       "       [45.        ],\n",
       "       [22.        ],\n",
       "       [21.        ],\n",
       "       [55.        ],\n",
       "       [ 5.        ],\n",
       "       [30.27259036],\n",
       "       [26.        ],\n",
       "       [30.27259036],\n",
       "       [19.        ],\n",
       "       [30.27259036],\n",
       "       [24.        ],\n",
       "       [24.        ],\n",
       "       [57.        ],\n",
       "       [21.        ],\n",
       "       [ 6.        ],\n",
       "       [23.        ],\n",
       "       [51.        ],\n",
       "       [13.        ],\n",
       "       [47.        ],\n",
       "       [29.        ],\n",
       "       [18.        ],\n",
       "       [24.        ],\n",
       "       [48.        ],\n",
       "       [22.        ],\n",
       "       [31.        ],\n",
       "       [30.        ],\n",
       "       [38.        ],\n",
       "       [22.        ],\n",
       "       [17.        ],\n",
       "       [43.        ],\n",
       "       [20.        ],\n",
       "       [23.        ],\n",
       "       [50.        ],\n",
       "       [30.27259036],\n",
       "       [ 3.        ],\n",
       "       [30.27259036],\n",
       "       [37.        ],\n",
       "       [28.        ],\n",
       "       [30.27259036],\n",
       "       [39.        ],\n",
       "       [38.5       ],\n",
       "       [30.27259036],\n",
       "       [30.27259036]])"
      ]
     },
     "execution_count": 88,
     "metadata": {},
     "output_type": "execute_result"
    }
   ],
   "source": [
    "reg.transform(data)"
   ]
  },
  {
   "cell_type": "code",
   "execution_count": 89,
   "id": "62bb64ef",
   "metadata": {},
   "outputs": [
    {
     "data": {
      "text/plain": [
       "Age    0\n",
       "dtype: int64"
      ]
     },
     "execution_count": 89,
     "metadata": {},
     "output_type": "execute_result"
    }
   ],
   "source": [
    "data.isnull().sum()"
   ]
  },
  {
   "cell_type": "code",
   "execution_count": 90,
   "id": "6d15cc3a",
   "metadata": {},
   "outputs": [],
   "source": [
    "a=reg.transform(data)"
   ]
  },
  {
   "cell_type": "code",
   "execution_count": 91,
   "id": "069c03d0",
   "metadata": {},
   "outputs": [
    {
     "data": {
      "text/plain": [
       "Age    0\n",
       "dtype: int64"
      ]
     },
     "execution_count": 91,
     "metadata": {},
     "output_type": "execute_result"
    }
   ],
   "source": [
    "data.isnull().sum()"
   ]
  },
  {
   "cell_type": "code",
   "execution_count": 92,
   "id": "d9d1d156",
   "metadata": {},
   "outputs": [],
   "source": [
    "data.iloc[:,:]=reg.transform(data.iloc[:,:])"
   ]
  },
  {
   "cell_type": "code",
   "execution_count": 93,
   "id": "2af52462",
   "metadata": {},
   "outputs": [
    {
     "data": {
      "text/plain": [
       "Age    0\n",
       "dtype: int64"
      ]
     },
     "execution_count": 93,
     "metadata": {},
     "output_type": "execute_result"
    }
   ],
   "source": [
    "data.isnull().sum()"
   ]
  },
  {
   "cell_type": "markdown",
   "id": "66123732",
   "metadata": {},
   "source": [
    "# With Feature Engine Package"
   ]
  },
  {
   "cell_type": "code",
   "execution_count": 95,
   "id": "cee3873e",
   "metadata": {},
   "outputs": [],
   "source": [
    "data=pd.read_csv('titanic.csv')"
   ]
  },
  {
   "cell_type": "code",
   "execution_count": 96,
   "id": "4ed3f0eb",
   "metadata": {},
   "outputs": [
    {
     "data": {
      "text/html": [
       "<div>\n",
       "<style scoped>\n",
       "    .dataframe tbody tr th:only-of-type {\n",
       "        vertical-align: middle;\n",
       "    }\n",
       "\n",
       "    .dataframe tbody tr th {\n",
       "        vertical-align: top;\n",
       "    }\n",
       "\n",
       "    .dataframe thead th {\n",
       "        text-align: right;\n",
       "    }\n",
       "</style>\n",
       "<table border=\"1\" class=\"dataframe\">\n",
       "  <thead>\n",
       "    <tr style=\"text-align: right;\">\n",
       "      <th></th>\n",
       "      <th>PassengerId</th>\n",
       "      <th>Survived</th>\n",
       "      <th>Pclass</th>\n",
       "      <th>Name</th>\n",
       "      <th>Sex</th>\n",
       "      <th>Age</th>\n",
       "      <th>SibSp</th>\n",
       "      <th>Parch</th>\n",
       "      <th>Ticket</th>\n",
       "      <th>Fare</th>\n",
       "      <th>Cabin</th>\n",
       "      <th>Embarked</th>\n",
       "    </tr>\n",
       "  </thead>\n",
       "  <tbody>\n",
       "    <tr>\n",
       "      <th>0</th>\n",
       "      <td>892</td>\n",
       "      <td>0</td>\n",
       "      <td>3</td>\n",
       "      <td>Kelly, Mr. James</td>\n",
       "      <td>male</td>\n",
       "      <td>34.5</td>\n",
       "      <td>0</td>\n",
       "      <td>0</td>\n",
       "      <td>330911</td>\n",
       "      <td>7.8292</td>\n",
       "      <td>NaN</td>\n",
       "      <td>Q</td>\n",
       "    </tr>\n",
       "    <tr>\n",
       "      <th>1</th>\n",
       "      <td>893</td>\n",
       "      <td>1</td>\n",
       "      <td>3</td>\n",
       "      <td>Wilkes, Mrs. James (Ellen Needs)</td>\n",
       "      <td>female</td>\n",
       "      <td>47.0</td>\n",
       "      <td>1</td>\n",
       "      <td>0</td>\n",
       "      <td>363272</td>\n",
       "      <td>7.0000</td>\n",
       "      <td>NaN</td>\n",
       "      <td>S</td>\n",
       "    </tr>\n",
       "    <tr>\n",
       "      <th>2</th>\n",
       "      <td>894</td>\n",
       "      <td>0</td>\n",
       "      <td>2</td>\n",
       "      <td>Myles, Mr. Thomas Francis</td>\n",
       "      <td>male</td>\n",
       "      <td>62.0</td>\n",
       "      <td>0</td>\n",
       "      <td>0</td>\n",
       "      <td>240276</td>\n",
       "      <td>9.6875</td>\n",
       "      <td>NaN</td>\n",
       "      <td>Q</td>\n",
       "    </tr>\n",
       "    <tr>\n",
       "      <th>3</th>\n",
       "      <td>895</td>\n",
       "      <td>0</td>\n",
       "      <td>3</td>\n",
       "      <td>Wirz, Mr. Albert</td>\n",
       "      <td>male</td>\n",
       "      <td>27.0</td>\n",
       "      <td>0</td>\n",
       "      <td>0</td>\n",
       "      <td>315154</td>\n",
       "      <td>8.6625</td>\n",
       "      <td>NaN</td>\n",
       "      <td>S</td>\n",
       "    </tr>\n",
       "    <tr>\n",
       "      <th>4</th>\n",
       "      <td>896</td>\n",
       "      <td>1</td>\n",
       "      <td>3</td>\n",
       "      <td>Hirvonen, Mrs. Alexander (Helga E Lindqvist)</td>\n",
       "      <td>female</td>\n",
       "      <td>22.0</td>\n",
       "      <td>1</td>\n",
       "      <td>1</td>\n",
       "      <td>3101298</td>\n",
       "      <td>12.2875</td>\n",
       "      <td>NaN</td>\n",
       "      <td>S</td>\n",
       "    </tr>\n",
       "  </tbody>\n",
       "</table>\n",
       "</div>"
      ],
      "text/plain": [
       "   PassengerId  Survived  Pclass  \\\n",
       "0          892         0       3   \n",
       "1          893         1       3   \n",
       "2          894         0       2   \n",
       "3          895         0       3   \n",
       "4          896         1       3   \n",
       "\n",
       "                                           Name     Sex   Age  SibSp  Parch  \\\n",
       "0                              Kelly, Mr. James    male  34.5      0      0   \n",
       "1              Wilkes, Mrs. James (Ellen Needs)  female  47.0      1      0   \n",
       "2                     Myles, Mr. Thomas Francis    male  62.0      0      0   \n",
       "3                              Wirz, Mr. Albert    male  27.0      0      0   \n",
       "4  Hirvonen, Mrs. Alexander (Helga E Lindqvist)  female  22.0      1      1   \n",
       "\n",
       "    Ticket     Fare Cabin Embarked  \n",
       "0   330911   7.8292   NaN        Q  \n",
       "1   363272   7.0000   NaN        S  \n",
       "2   240276   9.6875   NaN        Q  \n",
       "3   315154   8.6625   NaN        S  \n",
       "4  3101298  12.2875   NaN        S  "
      ]
     },
     "execution_count": 96,
     "metadata": {},
     "output_type": "execute_result"
    }
   ],
   "source": [
    "data.head()"
   ]
  },
  {
   "cell_type": "code",
   "execution_count": 97,
   "id": "78e787fd",
   "metadata": {},
   "outputs": [
    {
     "data": {
      "text/plain": [
       "PassengerId      0\n",
       "Survived         0\n",
       "Pclass           0\n",
       "Name             0\n",
       "Sex              0\n",
       "Age             86\n",
       "SibSp            0\n",
       "Parch            0\n",
       "Ticket           0\n",
       "Fare             1\n",
       "Cabin          327\n",
       "Embarked         0\n",
       "dtype: int64"
      ]
     },
     "execution_count": 97,
     "metadata": {},
     "output_type": "execute_result"
    }
   ],
   "source": [
    "data.isnull().sum()"
   ]
  },
  {
   "cell_type": "code",
   "execution_count": 98,
   "id": "1decb0cc",
   "metadata": {},
   "outputs": [],
   "source": [
    "from feature_engine.imputation import MeanMedianImputer"
   ]
  },
  {
   "cell_type": "code",
   "execution_count": 99,
   "id": "b1bd4271",
   "metadata": {},
   "outputs": [],
   "source": [
    "reg=MeanMedianImputer(imputation_method='mean')"
   ]
  },
  {
   "cell_type": "code",
   "execution_count": 100,
   "id": "bd75e8b6",
   "metadata": {},
   "outputs": [
    {
     "data": {
      "text/plain": [
       "MeanMedianImputer(imputation_method='mean')"
      ]
     },
     "execution_count": 100,
     "metadata": {},
     "output_type": "execute_result"
    }
   ],
   "source": [
    "reg.fit(data)"
   ]
  },
  {
   "cell_type": "code",
   "execution_count": 101,
   "id": "554aa5d3",
   "metadata": {},
   "outputs": [],
   "source": [
    "temp = reg.transform(data)"
   ]
  },
  {
   "cell_type": "code",
   "execution_count": 102,
   "id": "95c0d964",
   "metadata": {},
   "outputs": [
    {
     "data": {
      "text/html": [
       "<div>\n",
       "<style scoped>\n",
       "    .dataframe tbody tr th:only-of-type {\n",
       "        vertical-align: middle;\n",
       "    }\n",
       "\n",
       "    .dataframe tbody tr th {\n",
       "        vertical-align: top;\n",
       "    }\n",
       "\n",
       "    .dataframe thead th {\n",
       "        text-align: right;\n",
       "    }\n",
       "</style>\n",
       "<table border=\"1\" class=\"dataframe\">\n",
       "  <thead>\n",
       "    <tr style=\"text-align: right;\">\n",
       "      <th></th>\n",
       "      <th>PassengerId</th>\n",
       "      <th>Survived</th>\n",
       "      <th>Pclass</th>\n",
       "      <th>Name</th>\n",
       "      <th>Sex</th>\n",
       "      <th>Age</th>\n",
       "      <th>SibSp</th>\n",
       "      <th>Parch</th>\n",
       "      <th>Ticket</th>\n",
       "      <th>Fare</th>\n",
       "      <th>Cabin</th>\n",
       "      <th>Embarked</th>\n",
       "    </tr>\n",
       "  </thead>\n",
       "  <tbody>\n",
       "    <tr>\n",
       "      <th>0</th>\n",
       "      <td>892</td>\n",
       "      <td>0</td>\n",
       "      <td>3</td>\n",
       "      <td>Kelly, Mr. James</td>\n",
       "      <td>male</td>\n",
       "      <td>34.5</td>\n",
       "      <td>0</td>\n",
       "      <td>0</td>\n",
       "      <td>330911</td>\n",
       "      <td>7.8292</td>\n",
       "      <td>NaN</td>\n",
       "      <td>Q</td>\n",
       "    </tr>\n",
       "    <tr>\n",
       "      <th>1</th>\n",
       "      <td>893</td>\n",
       "      <td>1</td>\n",
       "      <td>3</td>\n",
       "      <td>Wilkes, Mrs. James (Ellen Needs)</td>\n",
       "      <td>female</td>\n",
       "      <td>47.0</td>\n",
       "      <td>1</td>\n",
       "      <td>0</td>\n",
       "      <td>363272</td>\n",
       "      <td>7.0000</td>\n",
       "      <td>NaN</td>\n",
       "      <td>S</td>\n",
       "    </tr>\n",
       "    <tr>\n",
       "      <th>2</th>\n",
       "      <td>894</td>\n",
       "      <td>0</td>\n",
       "      <td>2</td>\n",
       "      <td>Myles, Mr. Thomas Francis</td>\n",
       "      <td>male</td>\n",
       "      <td>62.0</td>\n",
       "      <td>0</td>\n",
       "      <td>0</td>\n",
       "      <td>240276</td>\n",
       "      <td>9.6875</td>\n",
       "      <td>NaN</td>\n",
       "      <td>Q</td>\n",
       "    </tr>\n",
       "    <tr>\n",
       "      <th>3</th>\n",
       "      <td>895</td>\n",
       "      <td>0</td>\n",
       "      <td>3</td>\n",
       "      <td>Wirz, Mr. Albert</td>\n",
       "      <td>male</td>\n",
       "      <td>27.0</td>\n",
       "      <td>0</td>\n",
       "      <td>0</td>\n",
       "      <td>315154</td>\n",
       "      <td>8.6625</td>\n",
       "      <td>NaN</td>\n",
       "      <td>S</td>\n",
       "    </tr>\n",
       "    <tr>\n",
       "      <th>4</th>\n",
       "      <td>896</td>\n",
       "      <td>1</td>\n",
       "      <td>3</td>\n",
       "      <td>Hirvonen, Mrs. Alexander (Helga E Lindqvist)</td>\n",
       "      <td>female</td>\n",
       "      <td>22.0</td>\n",
       "      <td>1</td>\n",
       "      <td>1</td>\n",
       "      <td>3101298</td>\n",
       "      <td>12.2875</td>\n",
       "      <td>NaN</td>\n",
       "      <td>S</td>\n",
       "    </tr>\n",
       "  </tbody>\n",
       "</table>\n",
       "</div>"
      ],
      "text/plain": [
       "   PassengerId  Survived  Pclass  \\\n",
       "0          892         0       3   \n",
       "1          893         1       3   \n",
       "2          894         0       2   \n",
       "3          895         0       3   \n",
       "4          896         1       3   \n",
       "\n",
       "                                           Name     Sex   Age  SibSp  Parch  \\\n",
       "0                              Kelly, Mr. James    male  34.5      0      0   \n",
       "1              Wilkes, Mrs. James (Ellen Needs)  female  47.0      1      0   \n",
       "2                     Myles, Mr. Thomas Francis    male  62.0      0      0   \n",
       "3                              Wirz, Mr. Albert    male  27.0      0      0   \n",
       "4  Hirvonen, Mrs. Alexander (Helga E Lindqvist)  female  22.0      1      1   \n",
       "\n",
       "    Ticket     Fare Cabin Embarked  \n",
       "0   330911   7.8292   NaN        Q  \n",
       "1   363272   7.0000   NaN        S  \n",
       "2   240276   9.6875   NaN        Q  \n",
       "3   315154   8.6625   NaN        S  \n",
       "4  3101298  12.2875   NaN        S  "
      ]
     },
     "execution_count": 102,
     "metadata": {},
     "output_type": "execute_result"
    }
   ],
   "source": [
    "temp.head()"
   ]
  },
  {
   "cell_type": "code",
   "execution_count": 103,
   "id": "4231dbe0",
   "metadata": {},
   "outputs": [
    {
     "data": {
      "text/plain": [
       "PassengerId      0\n",
       "Survived         0\n",
       "Pclass           0\n",
       "Name             0\n",
       "Sex              0\n",
       "Age              0\n",
       "SibSp            0\n",
       "Parch            0\n",
       "Ticket           0\n",
       "Fare             0\n",
       "Cabin          327\n",
       "Embarked         0\n",
       "dtype: int64"
      ]
     },
     "execution_count": 103,
     "metadata": {},
     "output_type": "execute_result"
    }
   ],
   "source": [
    "temp.isnull().sum()"
   ]
  }
 ],
 "metadata": {
  "kernelspec": {
   "display_name": "Python 3 (ipykernel)",
   "language": "python",
   "name": "python3"
  },
  "language_info": {
   "codemirror_mode": {
    "name": "ipython",
    "version": 3
   },
   "file_extension": ".py",
   "mimetype": "text/x-python",
   "name": "python",
   "nbconvert_exporter": "python",
   "pygments_lexer": "ipython3",
   "version": "3.9.7"
  }
 },
 "nbformat": 4,
 "nbformat_minor": 5
}
