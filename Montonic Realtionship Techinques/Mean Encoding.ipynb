{
 "cells": [
  {
   "cell_type": "code",
   "execution_count": 1,
   "id": "3cb54d51",
   "metadata": {},
   "outputs": [],
   "source": [
    "import numpy as np\n",
    "import pandas as pd\n",
    "import matplotlib.pyplot as plt"
   ]
  },
  {
   "cell_type": "code",
   "execution_count": 2,
   "id": "53db70fc",
   "metadata": {},
   "outputs": [],
   "source": [
    "import warnings\n",
    "warnings.filterwarnings('ignore')"
   ]
  },
  {
   "cell_type": "code",
   "execution_count": 3,
   "id": "7e29375b",
   "metadata": {},
   "outputs": [],
   "source": [
    "df = pd.read_csv('house_price.csv',usecols = ['Neighborhood' , 'Exterior1st' , 'Exterior2nd' , 'SalePrice'])"
   ]
  },
  {
   "cell_type": "code",
   "execution_count": 4,
   "id": "5b5abed2",
   "metadata": {},
   "outputs": [
    {
     "data": {
      "text/html": [
       "<div>\n",
       "<style scoped>\n",
       "    .dataframe tbody tr th:only-of-type {\n",
       "        vertical-align: middle;\n",
       "    }\n",
       "\n",
       "    .dataframe tbody tr th {\n",
       "        vertical-align: top;\n",
       "    }\n",
       "\n",
       "    .dataframe thead th {\n",
       "        text-align: right;\n",
       "    }\n",
       "</style>\n",
       "<table border=\"1\" class=\"dataframe\">\n",
       "  <thead>\n",
       "    <tr style=\"text-align: right;\">\n",
       "      <th></th>\n",
       "      <th>Neighborhood</th>\n",
       "      <th>Exterior1st</th>\n",
       "      <th>Exterior2nd</th>\n",
       "      <th>SalePrice</th>\n",
       "    </tr>\n",
       "  </thead>\n",
       "  <tbody>\n",
       "    <tr>\n",
       "      <th>0</th>\n",
       "      <td>CollgCr</td>\n",
       "      <td>VinylSd</td>\n",
       "      <td>VinylSd</td>\n",
       "      <td>208500</td>\n",
       "    </tr>\n",
       "    <tr>\n",
       "      <th>1</th>\n",
       "      <td>Veenker</td>\n",
       "      <td>MetalSd</td>\n",
       "      <td>MetalSd</td>\n",
       "      <td>181500</td>\n",
       "    </tr>\n",
       "    <tr>\n",
       "      <th>2</th>\n",
       "      <td>CollgCr</td>\n",
       "      <td>VinylSd</td>\n",
       "      <td>VinylSd</td>\n",
       "      <td>223500</td>\n",
       "    </tr>\n",
       "    <tr>\n",
       "      <th>3</th>\n",
       "      <td>Crawfor</td>\n",
       "      <td>Wd Sdng</td>\n",
       "      <td>Wd Shng</td>\n",
       "      <td>140000</td>\n",
       "    </tr>\n",
       "    <tr>\n",
       "      <th>4</th>\n",
       "      <td>NoRidge</td>\n",
       "      <td>VinylSd</td>\n",
       "      <td>VinylSd</td>\n",
       "      <td>250000</td>\n",
       "    </tr>\n",
       "  </tbody>\n",
       "</table>\n",
       "</div>"
      ],
      "text/plain": [
       "  Neighborhood Exterior1st Exterior2nd  SalePrice\n",
       "0      CollgCr     VinylSd     VinylSd     208500\n",
       "1      Veenker     MetalSd     MetalSd     181500\n",
       "2      CollgCr     VinylSd     VinylSd     223500\n",
       "3      Crawfor     Wd Sdng     Wd Shng     140000\n",
       "4      NoRidge     VinylSd     VinylSd     250000"
      ]
     },
     "execution_count": 4,
     "metadata": {},
     "output_type": "execute_result"
    }
   ],
   "source": [
    "df.head()"
   ]
  },
  {
   "cell_type": "code",
   "execution_count": 5,
   "id": "1af50d62",
   "metadata": {},
   "outputs": [],
   "source": [
    "from sklearn.model_selection import train_test_split"
   ]
  },
  {
   "cell_type": "code",
   "execution_count": 6,
   "id": "c0a84d8e",
   "metadata": {},
   "outputs": [],
   "source": [
    "x = df.iloc[:,:]\n",
    "y = df.iloc[:,-1]"
   ]
  },
  {
   "cell_type": "code",
   "execution_count": 7,
   "id": "623d426e",
   "metadata": {},
   "outputs": [],
   "source": [
    "x_train,x_test,y_train,y_test = train_test_split(x,y,test_size =0.33 , random_state =42)"
   ]
  },
  {
   "cell_type": "code",
   "execution_count": 8,
   "id": "d39aea3c",
   "metadata": {},
   "outputs": [
    {
     "data": {
      "text/html": [
       "<div>\n",
       "<style scoped>\n",
       "    .dataframe tbody tr th:only-of-type {\n",
       "        vertical-align: middle;\n",
       "    }\n",
       "\n",
       "    .dataframe tbody tr th {\n",
       "        vertical-align: top;\n",
       "    }\n",
       "\n",
       "    .dataframe thead th {\n",
       "        text-align: right;\n",
       "    }\n",
       "</style>\n",
       "<table border=\"1\" class=\"dataframe\">\n",
       "  <thead>\n",
       "    <tr style=\"text-align: right;\">\n",
       "      <th></th>\n",
       "      <th>Neighborhood</th>\n",
       "      <th>Exterior1st</th>\n",
       "      <th>Exterior2nd</th>\n",
       "      <th>SalePrice</th>\n",
       "    </tr>\n",
       "  </thead>\n",
       "  <tbody>\n",
       "    <tr>\n",
       "      <th>892</th>\n",
       "      <td>Sawyer</td>\n",
       "      <td>HdBoard</td>\n",
       "      <td>HdBoard</td>\n",
       "      <td>154500</td>\n",
       "    </tr>\n",
       "    <tr>\n",
       "      <th>1105</th>\n",
       "      <td>NoRidge</td>\n",
       "      <td>HdBoard</td>\n",
       "      <td>HdBoard</td>\n",
       "      <td>325000</td>\n",
       "    </tr>\n",
       "    <tr>\n",
       "      <th>413</th>\n",
       "      <td>OldTown</td>\n",
       "      <td>WdShing</td>\n",
       "      <td>Wd Shng</td>\n",
       "      <td>115000</td>\n",
       "    </tr>\n",
       "    <tr>\n",
       "      <th>522</th>\n",
       "      <td>BrkSide</td>\n",
       "      <td>CemntBd</td>\n",
       "      <td>CmentBd</td>\n",
       "      <td>159000</td>\n",
       "    </tr>\n",
       "    <tr>\n",
       "      <th>1036</th>\n",
       "      <td>Timber</td>\n",
       "      <td>VinylSd</td>\n",
       "      <td>VinylSd</td>\n",
       "      <td>315500</td>\n",
       "    </tr>\n",
       "  </tbody>\n",
       "</table>\n",
       "</div>"
      ],
      "text/plain": [
       "     Neighborhood Exterior1st Exterior2nd  SalePrice\n",
       "892        Sawyer     HdBoard     HdBoard     154500\n",
       "1105      NoRidge     HdBoard     HdBoard     325000\n",
       "413       OldTown     WdShing     Wd Shng     115000\n",
       "522       BrkSide     CemntBd     CmentBd     159000\n",
       "1036       Timber     VinylSd     VinylSd     315500"
      ]
     },
     "execution_count": 8,
     "metadata": {},
     "output_type": "execute_result"
    }
   ],
   "source": [
    "x_test.head()"
   ]
  },
  {
   "cell_type": "markdown",
   "id": "567084f4",
   "metadata": {},
   "source": [
    "## Mean Encoding --- Collecting The Mean Values"
   ]
  },
  {
   "cell_type": "code",
   "execution_count": 9,
   "id": "c993303a",
   "metadata": {},
   "outputs": [
    {
     "name": "stdout",
     "output_type": "stream",
     "text": [
      "Neighborhood : 25  labels\n",
      "Exterior1st : 14  labels\n",
      "Exterior2nd : 16  labels\n",
      "SalePrice : 521  labels\n"
     ]
    }
   ],
   "source": [
    "for i in x_train.columns:\n",
    "    print(i , ':' , len(x_train[i].unique()) , ' labels')"
   ]
  },
  {
   "cell_type": "code",
   "execution_count": 10,
   "id": "a22171fd",
   "metadata": {},
   "outputs": [
    {
     "data": {
      "image/png": "[encoded data removed]",
      "text/plain": [
       "<Figure size 432x288 with 1 Axes>"
      ]
     },
     "metadata": {
      "needs_background": "light"
     },
     "output_type": "display_data"
    },
    {
     "data": {
      "image/png": "[encoded data removed]",
      "text/plain": [
       "<Figure size 432x288 with 1 Axes>"
      ]
     },
     "metadata": {
      "needs_background": "light"
     },
     "output_type": "display_data"
    },
    {
     "data": {
      "image/png": "[encoded data removed]",
      "text/plain": [
       "<Figure size 432x288 with 1 Axes>"
      ]
     },
     "metadata": {
      "needs_background": "light"
     },
     "output_type": "display_data"
    },
    {
     "data": {
      "image/png": "[encoded data removed]",
      "text/plain": [
       "<Figure size 432x288 with 1 Axes>"
      ]
     },
     "metadata": {
      "needs_background": "light"
     },
     "output_type": "display_data"
    }
   ],
   "source": [
    "for i in x_train.columns:\n",
    "    fig = plt.figure()\n",
    "    x_train.groupby([i])['SalePrice'].mean().plot()\n",
    "    plt.title('A')\n",
    "    plt.ylabel('Mean value for ecah category')\n",
    "    plt.show()"
   ]
  },
  {
   "cell_type": "code",
   "execution_count": 11,
   "id": "bd3f7b48",
   "metadata": {},
   "outputs": [
    {
     "data": {
      "text/plain": [
       "<AxesSubplot:xlabel='Neighborhood'>"
      ]
     },
     "execution_count": 11,
     "metadata": {},
     "output_type": "execute_result"
    },
    {
     "data": {
      "image/png": "[encoded data removed]",
      "text/plain": [
       "<Figure size 432x288 with 1 Axes>"
      ]
     },
     "metadata": {
      "needs_background": "light"
     },
     "output_type": "display_data"
    }
   ],
   "source": [
    "x_train.groupby(['Neighborhood'])['SalePrice'].mean().plot()"
   ]
  },
  {
   "cell_type": "code",
   "execution_count": 12,
   "id": "a7ba9b23",
   "metadata": {},
   "outputs": [],
   "source": [
    "value = x_train.groupby(['Neighborhood'])['SalePrice'].mean().to_dict()"
   ]
  },
  {
   "cell_type": "code",
   "execution_count": 13,
   "id": "49f38f3e",
   "metadata": {},
   "outputs": [
    {
     "data": {
      "text/plain": [
       "{'Blmngtn': 192309.6923076923,\n",
       " 'Blueste': 124000.0,\n",
       " 'BrDale': 102208.33333333333,\n",
       " 'BrkSide': 119879.48717948717,\n",
       " 'ClearCr': 225194.44444444444,\n",
       " 'CollgCr': 201224.0693069307,\n",
       " 'Crawfor': 213999.64864864864,\n",
       " 'Edwards': 130500.93333333333,\n",
       " 'Gilbert': 199134.64,\n",
       " 'IDOTRR': 103945.83333333333,\n",
       " 'MeadowV': 101890.0,\n",
       " 'Mitchel': 158516.24242424243,\n",
       " 'NAmes': 148104.59731543623,\n",
       " 'NPkVill': 147125.0,\n",
       " 'NWAmes': 189225.58823529413,\n",
       " 'NoRidge': 313633.6296296296,\n",
       " 'NridgHt': 310738.78,\n",
       " 'OldTown': 132457.9125,\n",
       " 'SWISU': 139098.85714285713,\n",
       " 'Sawyer': 138186.36363636365,\n",
       " 'SawyerW': 177444.36111111112,\n",
       " 'Somerst': 221914.11111111112,\n",
       " 'StoneBr': 301427.05263157893,\n",
       " 'Timber': 238072.7037037037,\n",
       " 'Veenker': 249687.5}"
      ]
     },
     "execution_count": 13,
     "metadata": {},
     "output_type": "execute_result"
    }
   ],
   "source": [
    "value"
   ]
  },
  {
   "cell_type": "code",
   "execution_count": 14,
   "id": "302455ec",
   "metadata": {},
   "outputs": [],
   "source": [
    "x_train['Neighborhood'] = x_train['Neighborhood'].map(value)\n",
    "x_test['Neighborhood'] = x_test['Neighborhood'].map(value)"
   ]
  },
  {
   "cell_type": "code",
   "execution_count": 15,
   "id": "85981bbc",
   "metadata": {},
   "outputs": [
    {
     "data": {
      "text/html": [
       "<div>\n",
       "<style scoped>\n",
       "    .dataframe tbody tr th:only-of-type {\n",
       "        vertical-align: middle;\n",
       "    }\n",
       "\n",
       "    .dataframe tbody tr th {\n",
       "        vertical-align: top;\n",
       "    }\n",
       "\n",
       "    .dataframe thead th {\n",
       "        text-align: right;\n",
       "    }\n",
       "</style>\n",
       "<table border=\"1\" class=\"dataframe\">\n",
       "  <thead>\n",
       "    <tr style=\"text-align: right;\">\n",
       "      <th></th>\n",
       "      <th>Neighborhood</th>\n",
       "      <th>Exterior1st</th>\n",
       "      <th>Exterior2nd</th>\n",
       "      <th>SalePrice</th>\n",
       "    </tr>\n",
       "  </thead>\n",
       "  <tbody>\n",
       "    <tr>\n",
       "      <th>615</th>\n",
       "      <td>148104.597315</td>\n",
       "      <td>MetalSd</td>\n",
       "      <td>MetalSd</td>\n",
       "      <td>137500</td>\n",
       "    </tr>\n",
       "    <tr>\n",
       "      <th>613</th>\n",
       "      <td>158516.242424</td>\n",
       "      <td>VinylSd</td>\n",
       "      <td>VinylSd</td>\n",
       "      <td>147000</td>\n",
       "    </tr>\n",
       "    <tr>\n",
       "      <th>1303</th>\n",
       "      <td>221914.111111</td>\n",
       "      <td>VinylSd</td>\n",
       "      <td>VinylSd</td>\n",
       "      <td>232000</td>\n",
       "    </tr>\n",
       "    <tr>\n",
       "      <th>486</th>\n",
       "      <td>148104.597315</td>\n",
       "      <td>MetalSd</td>\n",
       "      <td>MetalSd</td>\n",
       "      <td>156000</td>\n",
       "    </tr>\n",
       "    <tr>\n",
       "      <th>561</th>\n",
       "      <td>158516.242424</td>\n",
       "      <td>HdBoard</td>\n",
       "      <td>HdBoard</td>\n",
       "      <td>170000</td>\n",
       "    </tr>\n",
       "  </tbody>\n",
       "</table>\n",
       "</div>"
      ],
      "text/plain": [
       "       Neighborhood Exterior1st Exterior2nd  SalePrice\n",
       "615   148104.597315     MetalSd     MetalSd     137500\n",
       "613   158516.242424     VinylSd     VinylSd     147000\n",
       "1303  221914.111111     VinylSd     VinylSd     232000\n",
       "486   148104.597315     MetalSd     MetalSd     156000\n",
       "561   158516.242424     HdBoard     HdBoard     170000"
      ]
     },
     "execution_count": 15,
     "metadata": {},
     "output_type": "execute_result"
    }
   ],
   "source": [
    "x_train.head()"
   ]
  },
  {
   "cell_type": "code",
   "execution_count": 16,
   "id": "13a536f7",
   "metadata": {},
   "outputs": [
    {
     "data": {
      "text/plain": [
       "<AxesSubplot:xlabel='Neighborhood'>"
      ]
     },
     "execution_count": 16,
     "metadata": {},
     "output_type": "execute_result"
    },
    {
     "data": {
      "image/png": "[encoded data removed]",
      "text/plain": [
       "<Figure size 432x288 with 1 Axes>"
      ]
     },
     "metadata": {
      "needs_background": "light"
     },
     "output_type": "display_data"
    }
   ],
   "source": [
    "x_train.groupby(['Neighborhood'])['SalePrice'].mean().plot()"
   ]
  },
  {
   "cell_type": "markdown",
   "id": "c74726c8",
   "metadata": {},
   "source": [
    "# Using Feature Engine"
   ]
  },
  {
   "cell_type": "code",
   "execution_count": 17,
   "id": "42593bde",
   "metadata": {},
   "outputs": [],
   "source": [
    "df = pd.read_csv('house_price.csv',usecols = ['Neighborhood' , 'Exterior1st' , 'Exterior2nd' , 'SalePrice'])"
   ]
  },
  {
   "cell_type": "code",
   "execution_count": 18,
   "id": "6360fa1d",
   "metadata": {},
   "outputs": [
    {
     "data": {
      "text/html": [
       "<div>\n",
       "<style scoped>\n",
       "    .dataframe tbody tr th:only-of-type {\n",
       "        vertical-align: middle;\n",
       "    }\n",
       "\n",
       "    .dataframe tbody tr th {\n",
       "        vertical-align: top;\n",
       "    }\n",
       "\n",
       "    .dataframe thead th {\n",
       "        text-align: right;\n",
       "    }\n",
       "</style>\n",
       "<table border=\"1\" class=\"dataframe\">\n",
       "  <thead>\n",
       "    <tr style=\"text-align: right;\">\n",
       "      <th></th>\n",
       "      <th>Neighborhood</th>\n",
       "      <th>Exterior1st</th>\n",
       "      <th>Exterior2nd</th>\n",
       "      <th>SalePrice</th>\n",
       "    </tr>\n",
       "  </thead>\n",
       "  <tbody>\n",
       "    <tr>\n",
       "      <th>0</th>\n",
       "      <td>CollgCr</td>\n",
       "      <td>VinylSd</td>\n",
       "      <td>VinylSd</td>\n",
       "      <td>208500</td>\n",
       "    </tr>\n",
       "    <tr>\n",
       "      <th>1</th>\n",
       "      <td>Veenker</td>\n",
       "      <td>MetalSd</td>\n",
       "      <td>MetalSd</td>\n",
       "      <td>181500</td>\n",
       "    </tr>\n",
       "    <tr>\n",
       "      <th>2</th>\n",
       "      <td>CollgCr</td>\n",
       "      <td>VinylSd</td>\n",
       "      <td>VinylSd</td>\n",
       "      <td>223500</td>\n",
       "    </tr>\n",
       "    <tr>\n",
       "      <th>3</th>\n",
       "      <td>Crawfor</td>\n",
       "      <td>Wd Sdng</td>\n",
       "      <td>Wd Shng</td>\n",
       "      <td>140000</td>\n",
       "    </tr>\n",
       "    <tr>\n",
       "      <th>4</th>\n",
       "      <td>NoRidge</td>\n",
       "      <td>VinylSd</td>\n",
       "      <td>VinylSd</td>\n",
       "      <td>250000</td>\n",
       "    </tr>\n",
       "  </tbody>\n",
       "</table>\n",
       "</div>"
      ],
      "text/plain": [
       "  Neighborhood Exterior1st Exterior2nd  SalePrice\n",
       "0      CollgCr     VinylSd     VinylSd     208500\n",
       "1      Veenker     MetalSd     MetalSd     181500\n",
       "2      CollgCr     VinylSd     VinylSd     223500\n",
       "3      Crawfor     Wd Sdng     Wd Shng     140000\n",
       "4      NoRidge     VinylSd     VinylSd     250000"
      ]
     },
     "execution_count": 18,
     "metadata": {},
     "output_type": "execute_result"
    }
   ],
   "source": [
    "df.head()"
   ]
  },
  {
   "cell_type": "code",
   "execution_count": 19,
   "id": "1f57a71d",
   "metadata": {},
   "outputs": [],
   "source": [
    "from sklearn.model_selection import train_test_split"
   ]
  },
  {
   "cell_type": "code",
   "execution_count": 20,
   "id": "8bcff1cd",
   "metadata": {},
   "outputs": [],
   "source": [
    "x = df.iloc[:,:]\n",
    "y = df.iloc[:,-1]"
   ]
  },
  {
   "cell_type": "code",
   "execution_count": 21,
   "id": "cf724872",
   "metadata": {},
   "outputs": [],
   "source": [
    "x_train,x_test,y_train,y_test = train_test_split(x,y,test_size =0.33 , random_state =42)"
   ]
  },
  {
   "cell_type": "code",
   "execution_count": 22,
   "id": "99ad1f61",
   "metadata": {},
   "outputs": [],
   "source": [
    "from feature_engine.encoding import MeanEncoder"
   ]
  },
  {
   "cell_type": "code",
   "execution_count": 23,
   "id": "d216ba0e",
   "metadata": {},
   "outputs": [],
   "source": [
    "od = MeanEncoder(variables=())"
   ]
  },
  {
   "cell_type": "code",
   "execution_count": 24,
   "id": "a9eee672",
   "metadata": {},
   "outputs": [
    {
     "data": {
      "text/plain": [
       "MeanEncoder(variables=())"
      ]
     },
     "execution_count": 24,
     "metadata": {},
     "output_type": "execute_result"
    }
   ],
   "source": [
    "od.fit(x_train,y_train)"
   ]
  },
  {
   "cell_type": "code",
   "execution_count": 25,
   "id": "f9f000d7",
   "metadata": {},
   "outputs": [
    {
     "data": {
      "text/plain": [
       "{'Neighborhood': {'Blmngtn': 192309.6923076923,\n",
       "  'Blueste': 124000.0,\n",
       "  'BrDale': 102208.33333333333,\n",
       "  'BrkSide': 119879.48717948717,\n",
       "  'ClearCr': 225194.44444444444,\n",
       "  'CollgCr': 201224.0693069307,\n",
       "  'Crawfor': 213999.64864864864,\n",
       "  'Edwards': 130500.93333333333,\n",
       "  'Gilbert': 199134.64,\n",
       "  'IDOTRR': 103945.83333333333,\n",
       "  'MeadowV': 101890.0,\n",
       "  'Mitchel': 158516.24242424243,\n",
       "  'NAmes': 148104.59731543623,\n",
       "  'NPkVill': 147125.0,\n",
       "  'NWAmes': 189225.58823529413,\n",
       "  'NoRidge': 313633.6296296296,\n",
       "  'NridgHt': 310738.78,\n",
       "  'OldTown': 132457.9125,\n",
       "  'SWISU': 139098.85714285713,\n",
       "  'Sawyer': 138186.36363636365,\n",
       "  'SawyerW': 177444.36111111112,\n",
       "  'Somerst': 221914.11111111112,\n",
       "  'StoneBr': 301427.05263157893,\n",
       "  'Timber': 238072.7037037037,\n",
       "  'Veenker': 249687.5},\n",
       " 'Exterior1st': {'AsbShng': 112426.66666666667,\n",
       "  'AsphShn': 100000.0,\n",
       "  'BrkComm': 82000.0,\n",
       "  'BrkFace': 211124.24242424243,\n",
       "  'CBlock': 105000.0,\n",
       "  'CemntBd': 235642.66666666666,\n",
       "  'HdBoard': 159823.78523489932,\n",
       "  'MetalSd': 151124.32413793102,\n",
       "  'Plywood': 179982.92424242425,\n",
       "  'Stone': 230000.0,\n",
       "  'Stucco': 185793.27777777778,\n",
       "  'VinylSd': 212076.3323943662,\n",
       "  'Wd Sdng': 144906.38129496403,\n",
       "  'WdShing': 154956.66666666666},\n",
       " 'Exterior2nd': {'AsbShng': 121681.25,\n",
       "  'AsphShn': 119500.0,\n",
       "  'Brk Cmn': 136200.0,\n",
       "  'BrkFace': 242783.33333333334,\n",
       "  'CBlock': 105000.0,\n",
       "  'CmentBd': 233225.36842105264,\n",
       "  'HdBoard': 163913.09489051095,\n",
       "  'ImStucc': 134066.66666666666,\n",
       "  'MetalSd': 151140.4820143885,\n",
       "  'Other': 319000.0,\n",
       "  'Plywood': 167968.72826086957,\n",
       "  'Stone': 165666.66666666666,\n",
       "  'Stucco': 180067.38888888888,\n",
       "  'VinylSd': 213056.52449567724,\n",
       "  'Wd Sdng': 150057.68148148147,\n",
       "  'Wd Shng': 163810.3448275862}}"
      ]
     },
     "execution_count": 25,
     "metadata": {},
     "output_type": "execute_result"
    }
   ],
   "source": [
    "od.encoder_dict_"
   ]
  },
  {
   "cell_type": "code",
   "execution_count": 26,
   "id": "7f173d0b",
   "metadata": {},
   "outputs": [
    {
     "data": {
      "text/plain": [
       "['Neighborhood', 'Exterior1st', 'Exterior2nd']"
      ]
     },
     "execution_count": 26,
     "metadata": {},
     "output_type": "execute_result"
    }
   ],
   "source": [
    "od.variables_"
   ]
  },
  {
   "cell_type": "code",
   "execution_count": 27,
   "id": "bfecc796",
   "metadata": {},
   "outputs": [
    {
     "data": {
      "text/plain": [
       "4"
      ]
     },
     "execution_count": 27,
     "metadata": {},
     "output_type": "execute_result"
    }
   ],
   "source": [
    "od.n_features_in_"
   ]
  },
  {
   "cell_type": "code",
   "execution_count": 28,
   "id": "e01beb59",
   "metadata": {},
   "outputs": [],
   "source": [
    "x_train = od.transform(x_train)"
   ]
  },
  {
   "cell_type": "code",
   "execution_count": 29,
   "id": "977e7814",
   "metadata": {},
   "outputs": [
    {
     "data": {
      "text/html": [
       "<div>\n",
       "<style scoped>\n",
       "    .dataframe tbody tr th:only-of-type {\n",
       "        vertical-align: middle;\n",
       "    }\n",
       "\n",
       "    .dataframe tbody tr th {\n",
       "        vertical-align: top;\n",
       "    }\n",
       "\n",
       "    .dataframe thead th {\n",
       "        text-align: right;\n",
       "    }\n",
       "</style>\n",
       "<table border=\"1\" class=\"dataframe\">\n",
       "  <thead>\n",
       "    <tr style=\"text-align: right;\">\n",
       "      <th></th>\n",
       "      <th>Neighborhood</th>\n",
       "      <th>Exterior1st</th>\n",
       "      <th>Exterior2nd</th>\n",
       "      <th>SalePrice</th>\n",
       "    </tr>\n",
       "  </thead>\n",
       "  <tbody>\n",
       "    <tr>\n",
       "      <th>615</th>\n",
       "      <td>148104.597315</td>\n",
       "      <td>151124.324138</td>\n",
       "      <td>151140.482014</td>\n",
       "      <td>137500</td>\n",
       "    </tr>\n",
       "    <tr>\n",
       "      <th>613</th>\n",
       "      <td>158516.242424</td>\n",
       "      <td>212076.332394</td>\n",
       "      <td>213056.524496</td>\n",
       "      <td>147000</td>\n",
       "    </tr>\n",
       "    <tr>\n",
       "      <th>1303</th>\n",
       "      <td>221914.111111</td>\n",
       "      <td>212076.332394</td>\n",
       "      <td>213056.524496</td>\n",
       "      <td>232000</td>\n",
       "    </tr>\n",
       "    <tr>\n",
       "      <th>486</th>\n",
       "      <td>148104.597315</td>\n",
       "      <td>151124.324138</td>\n",
       "      <td>151140.482014</td>\n",
       "      <td>156000</td>\n",
       "    </tr>\n",
       "    <tr>\n",
       "      <th>561</th>\n",
       "      <td>158516.242424</td>\n",
       "      <td>159823.785235</td>\n",
       "      <td>163913.094891</td>\n",
       "      <td>170000</td>\n",
       "    </tr>\n",
       "  </tbody>\n",
       "</table>\n",
       "</div>"
      ],
      "text/plain": [
       "       Neighborhood    Exterior1st    Exterior2nd  SalePrice\n",
       "615   148104.597315  151124.324138  151140.482014     137500\n",
       "613   158516.242424  212076.332394  213056.524496     147000\n",
       "1303  221914.111111  212076.332394  213056.524496     232000\n",
       "486   148104.597315  151124.324138  151140.482014     156000\n",
       "561   158516.242424  159823.785235  163913.094891     170000"
      ]
     },
     "execution_count": 29,
     "metadata": {},
     "output_type": "execute_result"
    }
   ],
   "source": [
    "x_train.head()"
   ]
  },
  {
   "cell_type": "code",
   "execution_count": 30,
   "id": "a04a1f7f",
   "metadata": {},
   "outputs": [],
   "source": [
    "x_test = od.transform(x_test)"
   ]
  },
  {
   "cell_type": "code",
   "execution_count": 31,
   "id": "ed0c65d1",
   "metadata": {},
   "outputs": [
    {
     "data": {
      "text/html": [
       "<div>\n",
       "<style scoped>\n",
       "    .dataframe tbody tr th:only-of-type {\n",
       "        vertical-align: middle;\n",
       "    }\n",
       "\n",
       "    .dataframe tbody tr th {\n",
       "        vertical-align: top;\n",
       "    }\n",
       "\n",
       "    .dataframe thead th {\n",
       "        text-align: right;\n",
       "    }\n",
       "</style>\n",
       "<table border=\"1\" class=\"dataframe\">\n",
       "  <thead>\n",
       "    <tr style=\"text-align: right;\">\n",
       "      <th></th>\n",
       "      <th>Neighborhood</th>\n",
       "      <th>Exterior1st</th>\n",
       "      <th>Exterior2nd</th>\n",
       "      <th>SalePrice</th>\n",
       "    </tr>\n",
       "  </thead>\n",
       "  <tbody>\n",
       "    <tr>\n",
       "      <th>892</th>\n",
       "      <td>138186.363636</td>\n",
       "      <td>159823.785235</td>\n",
       "      <td>163913.094891</td>\n",
       "      <td>154500</td>\n",
       "    </tr>\n",
       "    <tr>\n",
       "      <th>1105</th>\n",
       "      <td>313633.629630</td>\n",
       "      <td>159823.785235</td>\n",
       "      <td>163913.094891</td>\n",
       "      <td>325000</td>\n",
       "    </tr>\n",
       "    <tr>\n",
       "      <th>413</th>\n",
       "      <td>132457.912500</td>\n",
       "      <td>154956.666667</td>\n",
       "      <td>163810.344828</td>\n",
       "      <td>115000</td>\n",
       "    </tr>\n",
       "    <tr>\n",
       "      <th>522</th>\n",
       "      <td>119879.487179</td>\n",
       "      <td>235642.666667</td>\n",
       "      <td>233225.368421</td>\n",
       "      <td>159000</td>\n",
       "    </tr>\n",
       "    <tr>\n",
       "      <th>1036</th>\n",
       "      <td>238072.703704</td>\n",
       "      <td>212076.332394</td>\n",
       "      <td>213056.524496</td>\n",
       "      <td>315500</td>\n",
       "    </tr>\n",
       "  </tbody>\n",
       "</table>\n",
       "</div>"
      ],
      "text/plain": [
       "       Neighborhood    Exterior1st    Exterior2nd  SalePrice\n",
       "892   138186.363636  159823.785235  163913.094891     154500\n",
       "1105  313633.629630  159823.785235  163913.094891     325000\n",
       "413   132457.912500  154956.666667  163810.344828     115000\n",
       "522   119879.487179  235642.666667  233225.368421     159000\n",
       "1036  238072.703704  212076.332394  213056.524496     315500"
      ]
     },
     "execution_count": 31,
     "metadata": {},
     "output_type": "execute_result"
    }
   ],
   "source": [
    "x_test.head()"
   ]
  },
  {
   "cell_type": "code",
   "execution_count": null,
   "id": "f2fa63ba",
   "metadata": {},
   "outputs": [],
   "source": []
  }
 ],
 "metadata": {
  "kernelspec": {
   "display_name": "Python 3 (ipykernel)",
   "language": "python",
   "name": "python3"
  },
  "language_info": {
   "codemirror_mode": {
    "name": "ipython",
    "version": 3
   },
   "file_extension": ".py",
   "mimetype": "text/x-python",
   "name": "python",
   "nbconvert_exporter": "python",
   "pygments_lexer": "ipython3",
   "version": "3.9.7"
  }
 },
 "nbformat": 4,
 "nbformat_minor": 5
}
